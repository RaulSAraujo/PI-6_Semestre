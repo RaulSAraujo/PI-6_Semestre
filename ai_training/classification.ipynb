{
    "cells": [
        {
            "cell_type": "markdown",
            "id": "0adb9499",
            "metadata": {},
            "source": [
                "# Classificação de Direção de Ações Brasileiras com Machine Learning\n",
                "\n",
                "Este notebook apresenta um pipeline completo de classificação para prever a direção da variação percentual diária do preço de fechamento de ações brasileiras. Utilizaremos dados históricos de cinco ativos: BBAS3, EMBR3, KLBN3, PETR4, TOTS3, VIVA3. O objetivo é construir e comparar modelos capazes de prever se a variação do próximo dia será positiva (alta) ou negativa (baixa)."
            ]
        },
        {
            "cell_type": "markdown",
            "id": "7ad23803",
            "metadata": {},
            "source": [
                "## 1. Carregamento e Limpeza dos Dados\n",
                "\n",
                "Essa etapa faz a leitura dos arquivos CSV de cada ativo, converte as colunas para os tipos corretos (como datas e valores numéricos), padroniza os nomes das colunas e organiza os dados em um único DataFrame estruturado, facilitando o processamento e a análise posterior"
            ]
        },
        {
            "cell_type": "code",
            "execution_count": 6,
            "id": "dfe4c99f",
            "metadata": {},
            "outputs": [
                {
                    "data": {
                        "text/html": [
                            "<div>\n",
                            "<style scoped>\n",
                            "    .dataframe tbody tr th:only-of-type {\n",
                            "        vertical-align: middle;\n",
                            "    }\n",
                            "\n",
                            "    .dataframe tbody tr th {\n",
                            "        vertical-align: top;\n",
                            "    }\n",
                            "\n",
                            "    .dataframe thead th {\n",
                            "        text-align: right;\n",
                            "    }\n",
                            "</style>\n",
                            "<table border=\"1\" class=\"dataframe\">\n",
                            "  <thead>\n",
                            "    <tr style=\"text-align: right;\">\n",
                            "      <th></th>\n",
                            "      <th>Data</th>\n",
                            "      <th>Último</th>\n",
                            "      <th>Abertura</th>\n",
                            "      <th>Máxima</th>\n",
                            "      <th>Mínima</th>\n",
                            "      <th>Vol.</th>\n",
                            "      <th>Var%</th>\n",
                            "      <th>Ticker</th>\n",
                            "    </tr>\n",
                            "  </thead>\n",
                            "  <tbody>\n",
                            "    <tr>\n",
                            "      <th>21</th>\n",
                            "      <td>2025-03-10</td>\n",
                            "      <td>27.34</td>\n",
                            "      <td>27.33</td>\n",
                            "      <td>27.37</td>\n",
                            "      <td>27.01</td>\n",
                            "      <td>[14, 41000000.0]</td>\n",
                            "      <td>-0.32</td>\n",
                            "      <td>BBAS3</td>\n",
                            "    </tr>\n",
                            "    <tr>\n",
                            "      <th>20</th>\n",
                            "      <td>2025-03-11</td>\n",
                            "      <td>27.09</td>\n",
                            "      <td>27.37</td>\n",
                            "      <td>27.43</td>\n",
                            "      <td>26.89</td>\n",
                            "      <td>[20, 2000000.0]</td>\n",
                            "      <td>-0.89</td>\n",
                            "      <td>BBAS3</td>\n",
                            "    </tr>\n",
                            "    <tr>\n",
                            "      <th>19</th>\n",
                            "      <td>2025-03-12</td>\n",
                            "      <td>27.05</td>\n",
                            "      <td>27.10</td>\n",
                            "      <td>27.20</td>\n",
                            "      <td>26.95</td>\n",
                            "      <td>[15, 3000000.0]</td>\n",
                            "      <td>-0.16</td>\n",
                            "      <td>BBAS3</td>\n",
                            "    </tr>\n",
                            "    <tr>\n",
                            "      <th>18</th>\n",
                            "      <td>2025-03-13</td>\n",
                            "      <td>27.49</td>\n",
                            "      <td>27.05</td>\n",
                            "      <td>27.62</td>\n",
                            "      <td>26.74</td>\n",
                            "      <td>[18, 33000000.0]</td>\n",
                            "      <td>1.63</td>\n",
                            "      <td>BBAS3</td>\n",
                            "    </tr>\n",
                            "    <tr>\n",
                            "      <th>17</th>\n",
                            "      <td>2025-03-14</td>\n",
                            "      <td>27.88</td>\n",
                            "      <td>27.53</td>\n",
                            "      <td>28.09</td>\n",
                            "      <td>27.53</td>\n",
                            "      <td>[22, 84000000.0]</td>\n",
                            "      <td>1.42</td>\n",
                            "      <td>BBAS3</td>\n",
                            "    </tr>\n",
                            "  </tbody>\n",
                            "</table>\n",
                            "</div>"
                        ],
                        "text/plain": [
                            "         Data  Último  Abertura  Máxima  Mínima              Vol.  Var% Ticker\n",
                            "21 2025-03-10   27.34     27.33   27.37   27.01  [14, 41000000.0] -0.32  BBAS3\n",
                            "20 2025-03-11   27.09     27.37   27.43   26.89   [20, 2000000.0] -0.89  BBAS3\n",
                            "19 2025-03-12   27.05     27.10   27.20   26.95   [15, 3000000.0] -0.16  BBAS3\n",
                            "18 2025-03-13   27.49     27.05   27.62   26.74  [18, 33000000.0]  1.63  BBAS3\n",
                            "17 2025-03-14   27.88     27.53   28.09   27.53  [22, 84000000.0]  1.42  BBAS3"
                        ]
                    },
                    "execution_count": 6,
                    "metadata": {},
                    "output_type": "execute_result"
                }
            ],
            "source": [
                "import pandas as pd\n",
                "\n",
                "tickers_files = {\n",
                "    'BBAS3': 'files/BBAS3_Dados_Históricos.csv',\n",
                "    'EMBR3': 'files/EMBR3_Dados_Históricos.csv',\n",
                "    'KLBN3': 'files/KLBN3_Dados_Históricos.csv',\n",
                "    'PETR4': 'files/PETR4_Dados_Históricos.csv',\n",
                "    'TOTS3': 'files/TOTS3_Dados_Históricos.csv',\n",
                "    'VIVA3': 'files/VIVA3_Dados_Históricos.csv'\n",
                "}\n",
                "\n",
                "def load_and_clean(file, ticker):\n",
                "    df = pd.read_csv(file, sep=',')\n",
                "\n",
                "    df.columns = [col.strip() for col in df.columns]\n",
                "    data_col = [col for col in df.columns if 'data' in col.lower()][0]\n",
                "    \n",
                "    df['Data'] = pd.to_datetime(df[data_col], format='%d.%m.%Y')\n",
                "\n",
                "    for col in ['Último', 'Abertura', 'Máxima', 'Mínima']:\n",
                "        col_found = [c for c in df.columns if col.lower() in c.lower()]\n",
                "        if col_found:\n",
                "            df[col] = df[col_found[0]].astype(str).str.replace('.', '', regex=False).str.replace(',', '.', regex=False).astype(float)\n",
                "\n",
                "\n",
                "    vol_col = [c for c in df.columns if 'vol' in c.lower()][0]\n",
                "    df['Vol.'] = df[vol_col].astype(str).str.replace('.', '', regex=False).str.replace('K', 'e3').str.replace('M', 'e6').apply(pd.eval)\n",
                "\n",
                "    var_col = [c for c in df.columns if 'var' in c.lower()][0]\n",
                "    df['Var%'] = df[var_col].astype(str).str.replace('%', '', regex=False).str.replace(',', '.', regex=False).astype(float)\n",
                "\n",
                "    df['Ticker'] = ticker\n",
                "    \n",
                "    return df[['Data','Último','Abertura','Máxima','Mínima','Vol.','Var%','Ticker']]\n",
                "\n",
                "dfs = []\n",
                "for ticker, file in tickers_files.items():\n",
                "    dfs.append(load_and_clean(file, ticker))\n",
                "\n",
                "data = pd.concat(dfs, ignore_index=True)\n",
                "data = data.sort_values(['Ticker', 'Data'])\n",
                "\n",
                "data.head()"
            ]
        },
        {
            "cell_type": "markdown",
            "id": "2475f757",
            "metadata": {},
            "source": [
                "## 2. Análise Exploratória dos Dados (EDA)\n",
                "\n",
                "Aqui, fazemos uma análise exploratória dos dados, gerando estatísticas descritivas e visualizações para entender a distribuição das variações percentuais diárias e a evolução dos preços de fechamento de cada ativo ao longo do tempo"
            ]
        },
        {
            "cell_type": "code",
            "execution_count": 7,
            "id": "8d27cedd",
            "metadata": {},
            "outputs": [
                {
                    "data": {
                        "text/html": [
                            "<div>\n",
                            "<style scoped>\n",
                            "    .dataframe tbody tr th:only-of-type {\n",
                            "        vertical-align: middle;\n",
                            "    }\n",
                            "\n",
                            "    .dataframe tbody tr th {\n",
                            "        vertical-align: top;\n",
                            "    }\n",
                            "\n",
                            "    .dataframe thead th {\n",
                            "        text-align: right;\n",
                            "    }\n",
                            "</style>\n",
                            "<table border=\"1\" class=\"dataframe\">\n",
                            "  <thead>\n",
                            "    <tr style=\"text-align: right;\">\n",
                            "      <th></th>\n",
                            "      <th>Data</th>\n",
                            "      <th>Último</th>\n",
                            "      <th>Abertura</th>\n",
                            "      <th>Máxima</th>\n",
                            "      <th>Mínima</th>\n",
                            "      <th>Var%</th>\n",
                            "    </tr>\n",
                            "  </thead>\n",
                            "  <tbody>\n",
                            "    <tr>\n",
                            "      <th>count</th>\n",
                            "      <td>132</td>\n",
                            "      <td>132.000000</td>\n",
                            "      <td>132.000000</td>\n",
                            "      <td>132.000000</td>\n",
                            "      <td>132.000000</td>\n",
                            "      <td>132.000000</td>\n",
                            "    </tr>\n",
                            "    <tr>\n",
                            "      <th>mean</th>\n",
                            "      <td>2025-03-23 22:54:32.727272704</td>\n",
                            "      <td>31.764848</td>\n",
                            "      <td>31.868712</td>\n",
                            "      <td>32.300682</td>\n",
                            "      <td>31.340530</td>\n",
                            "      <td>-0.208939</td>\n",
                            "    </tr>\n",
                            "    <tr>\n",
                            "      <th>min</th>\n",
                            "      <td>2025-03-10 00:00:00</td>\n",
                            "      <td>3.730000</td>\n",
                            "      <td>3.760000</td>\n",
                            "      <td>3.820000</td>\n",
                            "      <td>3.700000</td>\n",
                            "      <td>-6.720000</td>\n",
                            "    </tr>\n",
                            "    <tr>\n",
                            "      <th>25%</th>\n",
                            "      <td>2025-03-17 00:00:00</td>\n",
                            "      <td>19.175000</td>\n",
                            "      <td>19.130000</td>\n",
                            "      <td>19.762500</td>\n",
                            "      <td>18.860000</td>\n",
                            "      <td>-1.132500</td>\n",
                            "    </tr>\n",
                            "    <tr>\n",
                            "      <th>50%</th>\n",
                            "      <td>2025-03-24 12:00:00</td>\n",
                            "      <td>30.405000</td>\n",
                            "      <td>30.875000</td>\n",
                            "      <td>31.160000</td>\n",
                            "      <td>30.205000</td>\n",
                            "      <td>-0.060000</td>\n",
                            "    </tr>\n",
                            "    <tr>\n",
                            "      <th>75%</th>\n",
                            "      <td>2025-04-01 00:00:00</td>\n",
                            "      <td>36.167500</td>\n",
                            "      <td>36.167500</td>\n",
                            "      <td>36.410000</td>\n",
                            "      <td>35.797500</td>\n",
                            "      <td>0.802500</td>\n",
                            "    </tr>\n",
                            "    <tr>\n",
                            "      <th>max</th>\n",
                            "      <td>2025-04-08 00:00:00</td>\n",
                            "      <td>79.290000</td>\n",
                            "      <td>79.300000</td>\n",
                            "      <td>79.830000</td>\n",
                            "      <td>77.970000</td>\n",
                            "      <td>7.570000</td>\n",
                            "    </tr>\n",
                            "    <tr>\n",
                            "      <th>std</th>\n",
                            "      <td>NaN</td>\n",
                            "      <td>20.336609</td>\n",
                            "      <td>20.520075</td>\n",
                            "      <td>20.815908</td>\n",
                            "      <td>20.056598</td>\n",
                            "      <td>1.852388</td>\n",
                            "    </tr>\n",
                            "  </tbody>\n",
                            "</table>\n",
                            "</div>"
                        ],
                        "text/plain": [
                            "                                Data      Último    Abertura      Máxima  \\\n",
                            "count                            132  132.000000  132.000000  132.000000   \n",
                            "mean   2025-03-23 22:54:32.727272704   31.764848   31.868712   32.300682   \n",
                            "min              2025-03-10 00:00:00    3.730000    3.760000    3.820000   \n",
                            "25%              2025-03-17 00:00:00   19.175000   19.130000   19.762500   \n",
                            "50%              2025-03-24 12:00:00   30.405000   30.875000   31.160000   \n",
                            "75%              2025-04-01 00:00:00   36.167500   36.167500   36.410000   \n",
                            "max              2025-04-08 00:00:00   79.290000   79.300000   79.830000   \n",
                            "std                              NaN   20.336609   20.520075   20.815908   \n",
                            "\n",
                            "           Mínima        Var%  \n",
                            "count  132.000000  132.000000  \n",
                            "mean    31.340530   -0.208939  \n",
                            "min      3.700000   -6.720000  \n",
                            "25%     18.860000   -1.132500  \n",
                            "50%     30.205000   -0.060000  \n",
                            "75%     35.797500    0.802500  \n",
                            "max     77.970000    7.570000  \n",
                            "std     20.056598    1.852388  "
                        ]
                    },
                    "metadata": {},
                    "output_type": "display_data"
                },
                {
                    "data": {
                        "image/png": "[encoded data removed]",
                        "text/plain": [
                            "<Figure size 1200x600 with 1 Axes>"
                        ]
                    },
                    "metadata": {},
                    "output_type": "display_data"
                },
                {
                    "data": {
                        "image/png": "[encoded data removed]",
                        "text/plain": [
                            "<Figure size 1400x700 with 1 Axes>"
                        ]
                    },
                    "metadata": {},
                    "output_type": "display_data"
                }
            ],
            "source": [
                "import seaborn as sns\n",
                "import matplotlib.pyplot as plt\n",
                "\n",
                "display(data.describe())\n",
                "\n",
                "plt.figure(figsize=(12,6))\n",
                "sns.histplot(data['Var%'], bins=50, kde=True)\n",
                "plt.title('Distribuição da Variação Percentual Diária')\n",
                "plt.show()\n",
                "\n",
                "plt.figure(figsize=(14,7))\n",
                "\n",
                "for ticker in tickers_files.keys():\n",
                "    subset = data[data['Ticker'] == ticker]\n",
                "    plt.plot(subset['Data'], subset['Último'], label=ticker)\n",
                "\n",
                "plt.legend()\n",
                "\n",
                "plt.title('Preço de Fechamento ao Longo do Tempo')\n",
                "plt.show()"
            ]
        },
        {
            "cell_type": "markdown",
            "id": "d8612fd8",
            "metadata": {},
            "source": [
                "## 3. Pré-processamento e Feature Engineering\n",
                "\n",
                "Essa etapa cria variáveis de defasagem (lags) para capturar o comportamento passado do ativo e define o alvo de previsão (alta ou baixa no dia seguinte). O aviso exibido é apenas informativo e não afeta o funcionamento do código"
            ]
        },
        {
            "cell_type": "code",
            "execution_count": 8,
            "id": "355c3cdb",
            "metadata": {},
            "outputs": [
                {
                    "name": "stderr",
                    "output_type": "stream",
                    "text": [
                        "C:\\Users\\joaoo\\AppData\\Local\\Temp\\ipykernel_22552\\22350052.py:8: DeprecationWarning: DataFrameGroupBy.apply operated on the grouping columns. This behavior is deprecated, and in a future version of pandas the grouping columns will be excluded from the operation. Either pass `include_groups=False` to exclude the groupings or explicitly select the grouping columns after groupby to silence this warning.\n",
                        "  data = data.groupby('Ticker', group_keys=False).apply(add_lags).reset_index(drop=True)\n"
                    ]
                },
                {
                    "data": {
                        "text/html": [
                            "<div>\n",
                            "<style scoped>\n",
                            "    .dataframe tbody tr th:only-of-type {\n",
                            "        vertical-align: middle;\n",
                            "    }\n",
                            "\n",
                            "    .dataframe tbody tr th {\n",
                            "        vertical-align: top;\n",
                            "    }\n",
                            "\n",
                            "    .dataframe thead th {\n",
                            "        text-align: right;\n",
                            "    }\n",
                            "</style>\n",
                            "<table border=\"1\" class=\"dataframe\">\n",
                            "  <thead>\n",
                            "    <tr style=\"text-align: right;\">\n",
                            "      <th></th>\n",
                            "      <th>Var%_lag1</th>\n",
                            "      <th>Último_lag1</th>\n",
                            "      <th>Var%_lag2</th>\n",
                            "      <th>Último_lag2</th>\n",
                            "      <th>Var%_lag3</th>\n",
                            "      <th>Último_lag3</th>\n",
                            "      <th>Target</th>\n",
                            "    </tr>\n",
                            "  </thead>\n",
                            "  <tbody>\n",
                            "    <tr>\n",
                            "      <th>3</th>\n",
                            "      <td>-0.16</td>\n",
                            "      <td>27.05</td>\n",
                            "      <td>-0.89</td>\n",
                            "      <td>27.09</td>\n",
                            "      <td>-0.32</td>\n",
                            "      <td>27.34</td>\n",
                            "      <td>1</td>\n",
                            "    </tr>\n",
                            "    <tr>\n",
                            "      <th>4</th>\n",
                            "      <td>1.63</td>\n",
                            "      <td>27.49</td>\n",
                            "      <td>-0.16</td>\n",
                            "      <td>27.05</td>\n",
                            "      <td>-0.89</td>\n",
                            "      <td>27.09</td>\n",
                            "      <td>1</td>\n",
                            "    </tr>\n",
                            "    <tr>\n",
                            "      <th>5</th>\n",
                            "      <td>1.42</td>\n",
                            "      <td>27.88</td>\n",
                            "      <td>1.63</td>\n",
                            "      <td>27.49</td>\n",
                            "      <td>-0.16</td>\n",
                            "      <td>27.05</td>\n",
                            "      <td>1</td>\n",
                            "    </tr>\n",
                            "    <tr>\n",
                            "      <th>6</th>\n",
                            "      <td>2.08</td>\n",
                            "      <td>28.46</td>\n",
                            "      <td>1.42</td>\n",
                            "      <td>27.88</td>\n",
                            "      <td>1.63</td>\n",
                            "      <td>27.49</td>\n",
                            "      <td>1</td>\n",
                            "    </tr>\n",
                            "    <tr>\n",
                            "      <th>7</th>\n",
                            "      <td>0.14</td>\n",
                            "      <td>28.50</td>\n",
                            "      <td>2.08</td>\n",
                            "      <td>28.46</td>\n",
                            "      <td>1.42</td>\n",
                            "      <td>27.88</td>\n",
                            "      <td>0</td>\n",
                            "    </tr>\n",
                            "  </tbody>\n",
                            "</table>\n",
                            "</div>"
                        ],
                        "text/plain": [
                            "   Var%_lag1  Último_lag1  Var%_lag2  Último_lag2  Var%_lag3  Último_lag3  \\\n",
                            "3      -0.16        27.05      -0.89        27.09      -0.32        27.34   \n",
                            "4       1.63        27.49      -0.16        27.05      -0.89        27.09   \n",
                            "5       1.42        27.88       1.63        27.49      -0.16        27.05   \n",
                            "6       2.08        28.46       1.42        27.88       1.63        27.49   \n",
                            "7       0.14        28.50       2.08        28.46       1.42        27.88   \n",
                            "\n",
                            "   Target  \n",
                            "3       1  \n",
                            "4       1  \n",
                            "5       1  \n",
                            "6       1  \n",
                            "7       0  "
                        ]
                    },
                    "execution_count": 8,
                    "metadata": {},
                    "output_type": "execute_result"
                }
            ],
            "source": [
                "def add_lags(df, n_lags=3):\n",
                "    for lag in range(1, n_lags+1):\n",
                "        df[f'Var%_lag{lag}'] = df['Var%'].shift(lag)\n",
                "        df[f'Último_lag{lag}'] = df['Último'].shift(lag)\n",
                "\n",
                "    return df\n",
                "\n",
                "data = data.groupby('Ticker', group_keys=False).apply(add_lags).reset_index(drop=True)\n",
                "data = data.dropna()\n",
                "\n",
                "# Criar coluna de target binária: 1 para alta, 0 para baixa\n",
                "# (considerando 0 como neutro, pode ser removido se preferir)\n",
                "data['Target'] = (data['Var%'] > 0).astype(int)\n",
                "\n",
                "features = [col for col in data.columns if 'lag' in col]\n",
                "target = 'Target'\n",
                "data[features + [target]].head()\n"
            ]
        },
        {
            "cell_type": "markdown",
            "id": "05391ea9",
            "metadata": {},
            "source": [
                "## 4. Divisão de Dados em Treino e Teste\n",
                "\n",
                "Essa etapa separa os dados de cada ativo em treino e teste, respeitando a ordem temporal, para garantir que a avaliação do modelo seja realista e sem vazamento de informação."
            ]
        },
        {
            "cell_type": "code",
            "execution_count": 11,
            "id": "6c306eb8",
            "metadata": {},
            "outputs": [
                {
                    "name": "stdout",
                    "output_type": "stream",
                    "text": [
                        "Exemplo de X_train:\n"
                    ]
                },
                {
                    "data": {
                        "text/html": [
                            "<div>\n",
                            "<style scoped>\n",
                            "    .dataframe tbody tr th:only-of-type {\n",
                            "        vertical-align: middle;\n",
                            "    }\n",
                            "\n",
                            "    .dataframe tbody tr th {\n",
                            "        vertical-align: top;\n",
                            "    }\n",
                            "\n",
                            "    .dataframe thead th {\n",
                            "        text-align: right;\n",
                            "    }\n",
                            "</style>\n",
                            "<table border=\"1\" class=\"dataframe\">\n",
                            "  <thead>\n",
                            "    <tr style=\"text-align: right;\">\n",
                            "      <th></th>\n",
                            "      <th>Var%_lag1</th>\n",
                            "      <th>Último_lag1</th>\n",
                            "      <th>Var%_lag2</th>\n",
                            "      <th>Último_lag2</th>\n",
                            "      <th>Var%_lag3</th>\n",
                            "      <th>Último_lag3</th>\n",
                            "    </tr>\n",
                            "  </thead>\n",
                            "  <tbody>\n",
                            "    <tr>\n",
                            "      <th>3</th>\n",
                            "      <td>-0.16</td>\n",
                            "      <td>27.05</td>\n",
                            "      <td>-0.89</td>\n",
                            "      <td>27.09</td>\n",
                            "      <td>-0.32</td>\n",
                            "      <td>27.34</td>\n",
                            "    </tr>\n",
                            "    <tr>\n",
                            "      <th>4</th>\n",
                            "      <td>1.63</td>\n",
                            "      <td>27.49</td>\n",
                            "      <td>-0.16</td>\n",
                            "      <td>27.05</td>\n",
                            "      <td>-0.89</td>\n",
                            "      <td>27.09</td>\n",
                            "    </tr>\n",
                            "    <tr>\n",
                            "      <th>5</th>\n",
                            "      <td>1.42</td>\n",
                            "      <td>27.88</td>\n",
                            "      <td>1.63</td>\n",
                            "      <td>27.49</td>\n",
                            "      <td>-0.16</td>\n",
                            "      <td>27.05</td>\n",
                            "    </tr>\n",
                            "    <tr>\n",
                            "      <th>6</th>\n",
                            "      <td>2.08</td>\n",
                            "      <td>28.46</td>\n",
                            "      <td>1.42</td>\n",
                            "      <td>27.88</td>\n",
                            "      <td>1.63</td>\n",
                            "      <td>27.49</td>\n",
                            "    </tr>\n",
                            "    <tr>\n",
                            "      <th>7</th>\n",
                            "      <td>0.14</td>\n",
                            "      <td>28.50</td>\n",
                            "      <td>2.08</td>\n",
                            "      <td>28.46</td>\n",
                            "      <td>1.42</td>\n",
                            "      <td>27.88</td>\n",
                            "    </tr>\n",
                            "  </tbody>\n",
                            "</table>\n",
                            "</div>"
                        ],
                        "text/plain": [
                            "   Var%_lag1  Último_lag1  Var%_lag2  Último_lag2  Var%_lag3  Último_lag3\n",
                            "3      -0.16        27.05      -0.89        27.09      -0.32        27.34\n",
                            "4       1.63        27.49      -0.16        27.05      -0.89        27.09\n",
                            "5       1.42        27.88       1.63        27.49      -0.16        27.05\n",
                            "6       2.08        28.46       1.42        27.88       1.63        27.49\n",
                            "7       0.14        28.50       2.08        28.46       1.42        27.88"
                        ]
                    },
                    "metadata": {},
                    "output_type": "display_data"
                },
                {
                    "name": "stdout",
                    "output_type": "stream",
                    "text": [
                        "Distribuição do target no treino:\n",
                        "Target\n",
                        "1    0.522222\n",
                        "0    0.477778\n",
                        "Name: proportion, dtype: float64\n"
                    ]
                }
            ],
            "source": [
                "def split_train_test(df, frac=0.8):\n",
                "    idx = int(len(df)*frac)\n",
                "    return df.iloc[:idx], df.iloc[idx:]\n",
                "\n",
                "train = []\n",
                "test = []\n",
                "for ticker in tickers_files.keys():\n",
                "    t, s = split_train_test(data[data['Ticker'] == ticker])\n",
                "    train.append(t)\n",
                "    test.append(s)\n",
                "train = pd.concat(train)\n",
                "test = pd.concat(test)\n",
                "\n",
                "X_train = train[features]\n",
                "y_train = train[target]\n",
                "X_test = test[features]\n",
                "y_test = test[target]\n",
                "\n",
                "print('Exemplo de X_train:')\n",
                "display(X_train.head())\n",
                "\n",
                "print('Distribuição do target no treino:')\n",
                "print(y_train.value_counts(normalize=True))"
            ]
        },
        {
            "cell_type": "markdown",
            "id": "bd9f203f",
            "metadata": {},
            "source": [
                "## 5. Treinamento e Avaliação de Modelos\n",
                "\n",
                "Essa etapa treina e avalia três modelos de classificação diferentes — Random Forest, Regressão Logística e SVM — para prever se o ativo vai subir ou cair no próximo dia, usando as variáveis de defasagem como entrada. Para cada modelo, são exibidas métricas de desempenho (precisão, recall, f1-score) e a matriz de confusão, permitindo comparar a performance entre os algoritmos."
            ]
        },
        {
            "cell_type": "code",
            "execution_count": 13,
            "id": "02f25f91",
            "metadata": {},
            "outputs": [
                {
                    "name": "stdout",
                    "output_type": "stream",
                    "text": [
                        "Random Forest:\n",
                        "              precision    recall  f1-score   support\n",
                        "\n",
                        "           0       0.50      0.25      0.33        16\n",
                        "           1       0.25      0.50      0.33         8\n",
                        "\n",
                        "    accuracy                           0.33        24\n",
                        "   macro avg       0.38      0.38      0.33        24\n",
                        "weighted avg       0.42      0.33      0.33        24\n",
                        "\n",
                        "Matriz de confusão:\n",
                        "[[ 4 12]\n",
                        " [ 4  4]]\n"
                    ]
                }
            ],
            "source": [
                "from sklearn.ensemble import RandomForestClassifier\n",
                "from sklearn.metrics import classification_report, confusion_matrix\n",
                "\n",
                "# Random Forest\n",
                "rf = RandomForestClassifier(n_estimators=100, random_state=42)\n",
                "rf.fit(X_train, y_train)\n",
                "y_pred_rf = rf.predict(X_test)\n",
                "\n",
                "print('Random Forest:')\n",
                "print(classification_report(y_test, y_pred_rf))\n",
                "\n",
                "print('Matriz de confusão:')\n",
                "print(confusion_matrix(y_test, y_pred_rf))"
            ]
        },
        {
            "cell_type": "code",
            "execution_count": 14,
            "id": "c44ef25d",
            "metadata": {},
            "outputs": [
                {
                    "name": "stdout",
                    "output_type": "stream",
                    "text": [
                        "Logistic Regression:\n",
                        "              precision    recall  f1-score   support\n",
                        "\n",
                        "           0       0.60      0.38      0.46        16\n",
                        "           1       0.29      0.50      0.36         8\n",
                        "\n",
                        "    accuracy                           0.42        24\n",
                        "   macro avg       0.44      0.44      0.41        24\n",
                        "weighted avg       0.50      0.42      0.43        24\n",
                        "\n",
                        "Matriz de confusão:\n",
                        "[[ 6 10]\n",
                        " [ 4  4]]\n"
                    ]
                }
            ],
            "source": [
                "from sklearn.linear_model import LogisticRegression\n",
                "\n",
                "# Regressão Logística\n",
                "lr = LogisticRegression(max_iter=1000)\n",
                "lr.fit(X_train, y_train)\n",
                "y_pred_lr = lr.predict(X_test)\n",
                "print('Logistic Regression:')\n",
                "print(classification_report(y_test, y_pred_lr))\n",
                "print('Matriz de confusão:')\n",
                "print(confusion_matrix(y_test, y_pred_lr))"
            ]
        },
        {
            "cell_type": "code",
            "execution_count": 15,
            "id": "14373fc7",
            "metadata": {},
            "outputs": [
                {
                    "name": "stdout",
                    "output_type": "stream",
                    "text": [
                        "SVM:\n",
                        "              precision    recall  f1-score   support\n",
                        "\n",
                        "           0       0.62      0.31      0.42        16\n",
                        "           1       0.31      0.62      0.42         8\n",
                        "\n",
                        "    accuracy                           0.42        24\n",
                        "   macro avg       0.47      0.47      0.42        24\n",
                        "weighted avg       0.52      0.42      0.42        24\n",
                        "\n",
                        "Matriz de confusão:\n",
                        "[[ 5 11]\n",
                        " [ 3  5]]\n"
                    ]
                }
            ],
            "source": [
                "from sklearn.svm import SVC\n",
                "\n",
                "# SVM\n",
                "svc = SVC(kernel='rbf', probability=True)\n",
                "svc.fit(X_train, y_train)\n",
                "y_pred_svc = svc.predict(X_test)\n",
                "print('SVM:')\n",
                "print(classification_report(y_test, y_pred_svc))\n",
                "print('Matriz de confusão:')\n",
                "print(confusion_matrix(y_test, y_pred_svc))"
            ]
        },
        {
            "cell_type": "markdown",
            "id": "c802dcb9",
            "metadata": {},
            "source": [
                "## 6. Comparação dos Modelos\n",
                "\n",
                "Essa etapa compara o desempenho dos três modelos (Random Forest, Regressão Logística e SVM) usando a métrica de acurácia, reunindo os resultados em uma tabela para facilitar a análise e escolha do melhor algoritmo"
            ]
        },
        {
            "cell_type": "code",
            "execution_count": 16,
            "id": "2ccd2596",
            "metadata": {},
            "outputs": [
                {
                    "data": {
                        "text/html": [
                            "<div>\n",
                            "<style scoped>\n",
                            "    .dataframe tbody tr th:only-of-type {\n",
                            "        vertical-align: middle;\n",
                            "    }\n",
                            "\n",
                            "    .dataframe tbody tr th {\n",
                            "        vertical-align: top;\n",
                            "    }\n",
                            "\n",
                            "    .dataframe thead th {\n",
                            "        text-align: right;\n",
                            "    }\n",
                            "</style>\n",
                            "<table border=\"1\" class=\"dataframe\">\n",
                            "  <thead>\n",
                            "    <tr style=\"text-align: right;\">\n",
                            "      <th></th>\n",
                            "      <th>Random Forest</th>\n",
                            "      <th>Logistic Regression</th>\n",
                            "      <th>SVM</th>\n",
                            "    </tr>\n",
                            "  </thead>\n",
                            "  <tbody>\n",
                            "    <tr>\n",
                            "      <th>Acurácia</th>\n",
                            "      <td>0.333333</td>\n",
                            "      <td>0.416667</td>\n",
                            "      <td>0.416667</td>\n",
                            "    </tr>\n",
                            "  </tbody>\n",
                            "</table>\n",
                            "</div>"
                        ],
                        "text/plain": [
                            "          Random Forest  Logistic Regression       SVM\n",
                            "Acurácia       0.333333             0.416667  0.416667"
                        ]
                    },
                    "metadata": {},
                    "output_type": "display_data"
                }
            ],
            "source": [
                "from sklearn.metrics import accuracy_score\n",
                "\n",
                "results = pd.DataFrame({\n",
                "    'Random Forest': [accuracy_score(y_test, y_pred_rf)],\n",
                "    'Logistic Regression': [accuracy_score(y_test, y_pred_lr)],\n",
                "    'SVM': [accuracy_score(y_test, y_pred_svc)]\n",
                "}, index=['Acurácia'])\n",
                "\n",
                "display(results)"
            ]
        },
        {
            "cell_type": "markdown",
            "id": "9731374e",
            "metadata": {},
            "source": [
                "## 7. Importância das Features (Random Forest)\n",
                "\n",
                "Essa etapa avalia e visualiza a importância de cada variável de entrada (feature) para o modelo Random Forest, mostrando quais lags têm maior influência na previsão do movimento do ativo."
            ]
        },
        {
            "cell_type": "code",
            "execution_count": 17,
            "id": "4b9109ca",
            "metadata": {},
            "outputs": [
                {
                    "data": {
                        "image/png": "[encoded data removed]",
                        "text/plain": [
                            "<Figure size 1200x500 with 1 Axes>"
                        ]
                    },
                    "metadata": {},
                    "output_type": "display_data"
                }
            ],
            "source": [
                "importances = rf.feature_importances_\n",
                "feat_imp = pd.Series(importances, index=features).sort_values(ascending=False)\n",
                "feat_imp.plot(kind='bar', figsize=(12,5), title='Importância das Features')\n",
                "plt.show()"
            ]
        },
        {
            "cell_type": "markdown",
            "id": "9be4f9e3",
            "metadata": {},
            "source": [
                "## 8. Salvando o Modelo Treinado\n",
                "\n",
                "Essa etapa salva o modelo Random Forest treinado em um arquivo (model.pkl), permitindo que ele seja reutilizado futuramente sem a necessidade de re-treinamento."
            ]
        },
        {
            "cell_type": "code",
            "execution_count": 18,
            "id": "2bb65043",
            "metadata": {},
            "outputs": [
                {
                    "name": "stdout",
                    "output_type": "stream",
                    "text": [
                        "Modelo salvo como model.pkl\n"
                    ]
                }
            ],
            "source": [
                "import pickle\n",
                "\n",
                "with open('model.pkl', 'wb') as f:\n",
                "    pickle.dump(rf, f)\n",
                "    \n",
                "print('Modelo salvo como model.pkl')"
            ]
        },
        {
            "cell_type": "markdown",
            "id": "8fd6ec68",
            "metadata": {},
            "source": [
                "\n",
                "## 9. Conclusão e Próximos Passos\n",
                "\n",
                "Neste notebook, realizamos a classificação da direção da variação percentual diária de ações brasileiras, incluindo:\n",
                "\n",
                "- Carregamento e limpeza robusta dos dados históricos.\n",
                "- Análise exploratória e visualização dos dados.\n",
                "- Feature engineering com lags e criação de target binário.\n",
                "- Treinamento e avaliação de três modelos: Random Forest, Regressão Logística e SVM.\n",
                "- Comparação quantitativa dos resultados.\n",
                "- Análise de importância das features.\n",
                "- Salvamento do modelo treinado para uso futuro.\n",
                "\n",
                "**Próximos passos:**\n",
                "- Testar outros algoritmos (ex: XGBoost, LightGBM).\n",
                "- Realizar tuning de hiperparâmetros.\n",
                "- Incluir mais features (ex: indicadores técnicos).\n",
                "- Avaliar o modelo em dados mais recentes ou em produção.\n",
                "\n",
                "*Este notebook serve como base para experimentação e pode ser expandido conforme a necessidade do projeto.*\n"
            ]
        }
    ],
    "metadata": {
        "kernelspec": {
            "display_name": "Python 3",
            "language": "python",
            "name": "python3"
        },
        "language_info": {
            "codemirror_mode": {
                "name": "ipython",
                "version": 3
            },
            "file_extension": ".py",
            "mimetype": "text/x-python",
            "name": "python",
            "nbconvert_exporter": "python",
            "pygments_lexer": "ipython3",
            "version": "3.13.3"
        }
    },
    "nbformat": 4,
    "nbformat_minor": 5
}
